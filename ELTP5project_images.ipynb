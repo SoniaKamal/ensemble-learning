{
 "cells": [
  {
   "cell_type": "markdown",
   "metadata": {},
   "source": [
    "### Import the libraries"
   ]
  },
  {
   "cell_type": "code",
   "execution_count": 1,
   "metadata": {
    "colab": {},
    "colab_type": "code",
    "id": "1ImMqxs8NB3w"
   },
   "outputs": [
    {
     "name": "stderr",
     "output_type": "stream",
     "text": [
      "/Users/taneja/.local/lib/python3.7/site-packages/tensorflow/python/framework/dtypes.py:516: FutureWarning: Passing (type, 1) or '1type' as a synonym of type is deprecated; in a future version of numpy, it will be understood as (type, (1,)) / '(1,)type'.\n",
      "  _np_qint8 = np.dtype([(\"qint8\", np.int8, 1)])\n",
      "/Users/taneja/.local/lib/python3.7/site-packages/tensorflow/python/framework/dtypes.py:517: FutureWarning: Passing (type, 1) or '1type' as a synonym of type is deprecated; in a future version of numpy, it will be understood as (type, (1,)) / '(1,)type'.\n",
      "  _np_quint8 = np.dtype([(\"quint8\", np.uint8, 1)])\n",
      "/Users/taneja/.local/lib/python3.7/site-packages/tensorflow/python/framework/dtypes.py:518: FutureWarning: Passing (type, 1) or '1type' as a synonym of type is deprecated; in a future version of numpy, it will be understood as (type, (1,)) / '(1,)type'.\n",
      "  _np_qint16 = np.dtype([(\"qint16\", np.int16, 1)])\n",
      "/Users/taneja/.local/lib/python3.7/site-packages/tensorflow/python/framework/dtypes.py:519: FutureWarning: Passing (type, 1) or '1type' as a synonym of type is deprecated; in a future version of numpy, it will be understood as (type, (1,)) / '(1,)type'.\n",
      "  _np_quint16 = np.dtype([(\"quint16\", np.uint16, 1)])\n",
      "/Users/taneja/.local/lib/python3.7/site-packages/tensorflow/python/framework/dtypes.py:520: FutureWarning: Passing (type, 1) or '1type' as a synonym of type is deprecated; in a future version of numpy, it will be understood as (type, (1,)) / '(1,)type'.\n",
      "  _np_qint32 = np.dtype([(\"qint32\", np.int32, 1)])\n",
      "/Users/taneja/.local/lib/python3.7/site-packages/tensorflow/python/framework/dtypes.py:525: FutureWarning: Passing (type, 1) or '1type' as a synonym of type is deprecated; in a future version of numpy, it will be understood as (type, (1,)) / '(1,)type'.\n",
      "  np_resource = np.dtype([(\"resource\", np.ubyte, 1)])\n",
      "/Users/taneja/.local/lib/python3.7/site-packages/tensorboard/compat/tensorflow_stub/dtypes.py:541: FutureWarning: Passing (type, 1) or '1type' as a synonym of type is deprecated; in a future version of numpy, it will be understood as (type, (1,)) / '(1,)type'.\n",
      "  _np_qint8 = np.dtype([(\"qint8\", np.int8, 1)])\n",
      "/Users/taneja/.local/lib/python3.7/site-packages/tensorboard/compat/tensorflow_stub/dtypes.py:542: FutureWarning: Passing (type, 1) or '1type' as a synonym of type is deprecated; in a future version of numpy, it will be understood as (type, (1,)) / '(1,)type'.\n",
      "  _np_quint8 = np.dtype([(\"quint8\", np.uint8, 1)])\n",
      "/Users/taneja/.local/lib/python3.7/site-packages/tensorboard/compat/tensorflow_stub/dtypes.py:543: FutureWarning: Passing (type, 1) or '1type' as a synonym of type is deprecated; in a future version of numpy, it will be understood as (type, (1,)) / '(1,)type'.\n",
      "  _np_qint16 = np.dtype([(\"qint16\", np.int16, 1)])\n",
      "/Users/taneja/.local/lib/python3.7/site-packages/tensorboard/compat/tensorflow_stub/dtypes.py:544: FutureWarning: Passing (type, 1) or '1type' as a synonym of type is deprecated; in a future version of numpy, it will be understood as (type, (1,)) / '(1,)type'.\n",
      "  _np_quint16 = np.dtype([(\"quint16\", np.uint16, 1)])\n",
      "/Users/taneja/.local/lib/python3.7/site-packages/tensorboard/compat/tensorflow_stub/dtypes.py:545: FutureWarning: Passing (type, 1) or '1type' as a synonym of type is deprecated; in a future version of numpy, it will be understood as (type, (1,)) / '(1,)type'.\n",
      "  _np_qint32 = np.dtype([(\"qint32\", np.int32, 1)])\n",
      "/Users/taneja/.local/lib/python3.7/site-packages/tensorboard/compat/tensorflow_stub/dtypes.py:550: FutureWarning: Passing (type, 1) or '1type' as a synonym of type is deprecated; in a future version of numpy, it will be understood as (type, (1,)) / '(1,)type'.\n",
      "  np_resource = np.dtype([(\"resource\", np.ubyte, 1)])\n",
      "Using TensorFlow backend.\n"
     ]
    }
   ],
   "source": [
    "import numpy as np\n",
    "import pandas as pd\n",
    "import matplotlib.pyplot as plt\n",
    "pd.set_option('display.max_columns',None)\n",
    "import os\n",
    "import zipfile\n",
    "from tqdm.notebook import tqdm\n",
    "\n",
    "import skimage.transform\n",
    "import cv2\n",
    "\n",
    "import torch\n",
    "import torchvision\n",
    "from torch.utils import data\n",
    "from torch.autograd import Variable\n",
    "\n",
    "import tensorflow as tf\n",
    "from keras.models import Model, load_model\n",
    "from keras.layers import Input, Dense, Flatten\n",
    "from keras.layers.core import Dropout, Lambda\n",
    "from keras.layers.convolutional import Conv2D, Conv2DTranspose\n",
    "from keras.layers.pooling import MaxPooling2D\n",
    "from keras.layers.merge import concatenate\n",
    "from keras import backend as K\n",
    "from keras.callbacks import EarlyStopping, ModelCheckpoint"
   ]
  },
  {
   "cell_type": "code",
   "execution_count": 5,
   "metadata": {
    "colab": {},
    "colab_type": "code",
    "id": "mFOtwd-khGUK"
   },
   "outputs": [],
   "source": [
    "# Image settings \n",
    "IMG_WIDTH = 128\n",
    "IMG_HEIGHT = 128\n",
    "IMG_CHANNELS = 3\n",
    "IMAGES_PATH = './images/image_train/' # why was it image_test before ?"
   ]
  },
  {
   "cell_type": "code",
   "execution_count": 7,
   "metadata": {
    "colab": {},
    "colab_type": "code",
    "id": "wh0hJIJ1Pv12"
   },
   "outputs": [],
   "source": [
    "def get_images_train_data(img_paths, output_shape=(None, None)):\n",
    "    try:\n",
    "        return(np.load(IMAGES_PATH + 'training_images.npy'))\n",
    "    except:\n",
    "        X_data = np.array([skimage.transform.resize(plt.imread((IMAGES_PATH + path + '.jpg'))[:,:,:3], \n",
    "                                                        output_shape=output_shape, mode='constant', \n",
    "                                                      preserve_range=True) for path in img_paths], \n",
    "                            dtype=np.uint8)\n",
    "\n",
    "          # let's save the numpy images array for faster loading\n",
    "        np.save(IMAGES_PATH + 'training_images.npy', X_data)\n",
    "        return X_data"
   ]
  },
  {
   "cell_type": "code",
   "execution_count": 8,
   "metadata": {},
   "outputs": [],
   "source": [
    "# loading training and test csv\n",
    "X_train = pd.read_csv('X_train.csv', header=0, names=['id','designation','description','productid','imageid'])\n",
    "y_train = pd.read_csv('Y_train.csv', header=0, names=['id','prdtypecode'])"
   ]
  },
  {
   "cell_type": "code",
   "execution_count": 9,
   "metadata": {
    "colab": {
     "base_uri": "https://localhost:8080/",
     "height": 238
    },
    "colab_type": "code",
    "id": "B0KOdlpz5AaB",
    "outputId": "c59b381e-4841-459e-cc9b-40e3cf33c0af",
    "scrolled": true
   },
   "outputs": [
    {
     "data": {
      "text/html": [
       "<div>\n",
       "<style scoped>\n",
       "    .dataframe tbody tr th:only-of-type {\n",
       "        vertical-align: middle;\n",
       "    }\n",
       "\n",
       "    .dataframe tbody tr th {\n",
       "        vertical-align: top;\n",
       "    }\n",
       "\n",
       "    .dataframe thead th {\n",
       "        text-align: right;\n",
       "    }\n",
       "</style>\n",
       "<table border=\"1\" class=\"dataframe\">\n",
       "  <thead>\n",
       "    <tr style=\"text-align: right;\">\n",
       "      <th></th>\n",
       "      <th>id</th>\n",
       "      <th>designation</th>\n",
       "      <th>description</th>\n",
       "      <th>productid</th>\n",
       "      <th>imageid</th>\n",
       "      <th>imagefilename</th>\n",
       "    </tr>\n",
       "  </thead>\n",
       "  <tbody>\n",
       "    <tr>\n",
       "      <td>0</td>\n",
       "      <td>0</td>\n",
       "      <td>Olivia: Personalisiertes Notizbuch / 150 Seite...</td>\n",
       "      <td>NaN</td>\n",
       "      <td>3804725264</td>\n",
       "      <td>1263597046</td>\n",
       "      <td>image_1263597046_product_3804725264</td>\n",
       "    </tr>\n",
       "    <tr>\n",
       "      <td>1</td>\n",
       "      <td>1</td>\n",
       "      <td>Journal Des Arts (Le) N° 133 Du 28/09/2001 - L...</td>\n",
       "      <td>NaN</td>\n",
       "      <td>436067568</td>\n",
       "      <td>1008141237</td>\n",
       "      <td>image_1008141237_product_436067568</td>\n",
       "    </tr>\n",
       "    <tr>\n",
       "      <td>2</td>\n",
       "      <td>2</td>\n",
       "      <td>Grand Stylet Ergonomique Bleu Gamepad Nintendo...</td>\n",
       "      <td>PILOT STYLE Touch Pen de marque Speedlink est ...</td>\n",
       "      <td>201115110</td>\n",
       "      <td>938777978</td>\n",
       "      <td>image_938777978_product_201115110</td>\n",
       "    </tr>\n",
       "    <tr>\n",
       "      <td>3</td>\n",
       "      <td>3</td>\n",
       "      <td>Peluche Donald - Europe - Disneyland 2000 (Mar...</td>\n",
       "      <td>NaN</td>\n",
       "      <td>50418756</td>\n",
       "      <td>457047496</td>\n",
       "      <td>image_457047496_product_50418756</td>\n",
       "    </tr>\n",
       "    <tr>\n",
       "      <td>4</td>\n",
       "      <td>4</td>\n",
       "      <td>La Guerre Des Tuques</td>\n",
       "      <td>Luc a des id&amp;eacute;es de grandeur. Il veut or...</td>\n",
       "      <td>278535884</td>\n",
       "      <td>1077757786</td>\n",
       "      <td>image_1077757786_product_278535884</td>\n",
       "    </tr>\n",
       "  </tbody>\n",
       "</table>\n",
       "</div>"
      ],
      "text/plain": [
       "   id                                        designation  \\\n",
       "0   0  Olivia: Personalisiertes Notizbuch / 150 Seite...   \n",
       "1   1  Journal Des Arts (Le) N° 133 Du 28/09/2001 - L...   \n",
       "2   2  Grand Stylet Ergonomique Bleu Gamepad Nintendo...   \n",
       "3   3  Peluche Donald - Europe - Disneyland 2000 (Mar...   \n",
       "4   4                               La Guerre Des Tuques   \n",
       "\n",
       "                                         description   productid     imageid  \\\n",
       "0                                                NaN  3804725264  1263597046   \n",
       "1                                                NaN   436067568  1008141237   \n",
       "2  PILOT STYLE Touch Pen de marque Speedlink est ...   201115110   938777978   \n",
       "3                                                NaN    50418756   457047496   \n",
       "4  Luc a des id&eacute;es de grandeur. Il veut or...   278535884  1077757786   \n",
       "\n",
       "                         imagefilename  \n",
       "0  image_1263597046_product_3804725264  \n",
       "1   image_1008141237_product_436067568  \n",
       "2    image_938777978_product_201115110  \n",
       "3     image_457047496_product_50418756  \n",
       "4   image_1077757786_product_278535884  "
      ]
     },
     "execution_count": 9,
     "metadata": {},
     "output_type": "execute_result"
    }
   ],
   "source": [
    "# build filenames in the string format : product_123_image_456 from X_train\n",
    "X_train['imagefilename'] = X_train.apply(lambda x: 'image_'+str(x['imageid'])+'_product_'+str(x['productid']), axis=1)\n",
    "X_train.head()"
   ]
  },
  {
   "cell_type": "code",
   "execution_count": 11,
   "metadata": {},
   "outputs": [],
   "source": [
    "# subsampling data\n",
    "\n",
    "def subSample(df, maxCount):\n",
    "    prd_dict = dict()\n",
    "    \n",
    "    for i in df.prdtypecode.value_counts().index:\n",
    "        prd_dict[i]=0\n",
    "    \n",
    "    ranks = []\n",
    "    for i in df.prdtypecode:\n",
    "        prd_dict[i] = prd_dict[i] +1\n",
    "        ranks.append(prd_dict[i])\n",
    "    \n",
    "    df['rank'] = ranks\n",
    "    temp = df[df['rank']<=maxCount]\n",
    "    temp.drop(columns=['rank'],inplace=True)\n",
    "    return temp\n",
    "\n",
    "def mapPrdIdtoInteger(df, col_name): # function to map prdTypeCode to Integer \n",
    "    uniqueProdIds = [i for i in pd.unique(df[col_name].values)]\n",
    "    prdIdDict = {}\n",
    "    for i in range(len(uniqueProdIds)):\n",
    "        prdIdDict.setdefault(uniqueProdIds[i],i)\n",
    "    return prdIdDict"
   ]
  },
  {
   "cell_type": "code",
   "execution_count": 12,
   "metadata": {},
   "outputs": [
    {
     "name": "stderr",
     "output_type": "stream",
     "text": [
      "/Users/taneja/Anaconda3/anaconda3/lib/python3.7/site-packages/pandas/core/frame.py:4102: SettingWithCopyWarning: \n",
      "A value is trying to be set on a copy of a slice from a DataFrame\n",
      "\n",
      "See the caveats in the documentation: http://pandas.pydata.org/pandas-docs/stable/user_guide/indexing.html#returning-a-view-versus-a-copy\n",
      "  errors=errors,\n"
     ]
    }
   ],
   "source": [
    "y_train_subsampled = subSample(y_train.copy(), 500)\n",
    "subsampled_ids = y_train_subsampled['id']\n",
    "\n",
    "temp_df = pd.DataFrame(y_train_subsampled['prdtypecode'])\n",
    "\n",
    "map_dict = mapPrdIdtoInteger(temp_df,'prdtypecode') # encoding map \n",
    "inverse_map_dict = dict((v,k) for k,v in map_dict.items()) # decoding map for getting back actual ProductId\n",
    "\n",
    "y_train_subsampled = pd.DataFrame.replace(temp_df, to_replace = map_dict)\n",
    "\n",
    "X_train_subsampled = X_train.loc[subsampled_ids]"
   ]
  },
  {
   "cell_type": "code",
   "execution_count": 13,
   "metadata": {
    "colab": {},
    "colab_type": "code",
    "id": "rg3Y-SGX52EC"
   },
   "outputs": [],
   "source": [
    "# now let's read all the image filenames\n",
    "image_filenames = [f for f in X_train_subsampled['imagefilename']]"
   ]
  },
  {
   "cell_type": "markdown",
   "metadata": {},
   "source": [
    "### Loading all training images"
   ]
  },
  {
   "cell_type": "code",
   "execution_count": 15,
   "metadata": {},
   "outputs": [
    {
     "data": {
      "application/vnd.jupyter.widget-view+json": {
       "model_id": "3c4ba901701a48528fc42c04a85a8dac",
       "version_major": 2,
       "version_minor": 0
      },
      "text/plain": [
       "HBox(children=(IntProgress(value=1, bar_style='info', max=1), HTML(value='')))"
      ]
     },
     "metadata": {},
     "output_type": "display_data"
    },
    {
     "name": "stdout",
     "output_type": "stream",
     "text": [
      "\n"
     ]
    }
   ],
   "source": [
    "sample_length = len(X_train_subsampled)\n",
    "\n",
    "train_images_np=np.zeros((sample_length,IMG_HEIGHT,IMG_WIDTH,3))\n",
    "\n",
    "for i,fi in tqdm(enumerate(image_filenames)):\n",
    "    pic = cv2.imread(IMAGES_PATH + fi + '.jpg')\n",
    "    pic = cv2.resize(pic,(IMG_HEIGHT,IMG_WIDTH))\n",
    "    train_images_np[i] = pic"
   ]
  },
  {
   "cell_type": "markdown",
   "metadata": {},
   "source": [
    "### Axes swapping from h,w,c -> c,h,w"
   ]
  },
  {
   "cell_type": "code",
   "execution_count": 16,
   "metadata": {},
   "outputs": [
    {
     "data": {
      "text/plain": [
       "(13500, 3, 128, 128)"
      ]
     },
     "execution_count": 16,
     "metadata": {},
     "output_type": "execute_result"
    }
   ],
   "source": [
    "# Uncomment below if using Pytorch\n",
    "train_images_np = np.moveaxis(train_images_np, -1, 1)\n",
    "train_images_np.shape"
   ]
  },
  {
   "cell_type": "markdown",
   "metadata": {
    "colab": {
     "base_uri": "https://localhost:8080/",
     "height": 33
    },
    "colab_type": "code",
    "id": "wAGANv_W1ObZ",
    "outputId": "1dfddfd3-299a-43e6-92cb-a1a2e362c33d"
   },
   "source": [
    "### Train Test Split of Data"
   ]
  },
  {
   "cell_type": "code",
   "execution_count": 17,
   "metadata": {
    "colab": {},
    "colab_type": "code",
    "id": "PZaNLV3ONw6Y"
   },
   "outputs": [],
   "source": [
    "n = int(round(0.8*len(X_train_subsampled),0))\n",
    "\n",
    "y_train_subsampled = y_train_subsampled.prdtypecode.values\n",
    "\n",
    "x_train_cv = train_images_np[:n]\n",
    "x_val = train_images_np[n:]\n",
    "y_train_cv = y_train_subsampled[:n]\n",
    "y_val = y_train_subsampled[n:]"
   ]
  },
  {
   "cell_type": "markdown",
   "metadata": {},
   "source": [
    "### Using PyTorch"
   ]
  },
  {
   "cell_type": "code",
   "execution_count": 18,
   "metadata": {},
   "outputs": [],
   "source": [
    "batch_size = 32\n",
    "\n",
    "# this cell takes a lot of time and increases with input size\n",
    "\n",
    "# transforming the numpy array to a torch tensor\n",
    "tensor_X_train = torch.Tensor(x_train_cv)\n",
    "tensor_Y_train = torch.Tensor(y_train_cv).type(torch.LongTensor)\n",
    "\n",
    "# transforming the torch tensors to a dataset\n",
    "trainset = torch.utils.data.TensorDataset(tensor_X_train, tensor_Y_train)\n",
    "train_dataloader = torch.utils.data.DataLoader(trainset, batch_size, shuffle=False)\n",
    "\n",
    "tensor_X_val = torch.Tensor(x_val)\n",
    "tensor_Y_val = torch.Tensor(y_val).type(torch.LongTensor)\n",
    "\n",
    "valset = torch.utils.data.TensorDataset(tensor_X_val, tensor_Y_val)\n",
    "val_dataloader = torch.utils.data.DataLoader(valset, batch_size=32, shuffle=False)"
   ]
  },
  {
   "cell_type": "code",
   "execution_count": 19,
   "metadata": {},
   "outputs": [],
   "source": [
    "import torch\n",
    "import torch.nn as nn\n",
    "import torch.nn.functional as F\n",
    "\n",
    "# # *****START CODE\n",
    "# class ConvNet(nn.Module):\n",
    "#     def __init__(self):\n",
    "#         super(ConvNet, self).__init__()\n",
    "#         #starting image size = 64X64\n",
    "#         self.conv1 = nn.Conv2d(3, 16, 3, padding=(1,1)) # in_channels, out_channels, kernel_size\n",
    "#         self.conv2 = nn.Conv2d(16,16,3, padding=(1,1))\n",
    "#         self.pool1 = nn.MaxPool2d(2, 2)\n",
    "#         self.dropout1 = nn.Dropout2d(0.1)\n",
    "#         self.conv3 = nn.Conv2d(16, 32, 3, padding=(1,1))\n",
    "#         self.conv4 = nn.Conv2d(32, 32, 3, padding=(1,1))\n",
    "#         self.pool2 = nn.MaxPool2d(2, 2)\n",
    "#         self.dropout2 = nn.Dropout2d(0.1)\n",
    "\n",
    "# #FLATTENING\n",
    "#         self.fc1 = nn.Linear(32 * 64 * 64, 512)\n",
    "#         self.dropout3 = nn.Dropout(p=0.3)\n",
    "#         self.fc2 = nn.Linear(512, 256)\n",
    "#         self.fc3 = nn.Linear(256, 27)\n",
    "\n",
    "\n",
    "#     def forward(self, x):\n",
    "#         x = self.conv1(x)\n",
    "#         x = self.dropout1(self.pool1(F.relu(self.conv2(x))))\n",
    "#         x = self.conv3(x)\n",
    "#         x = self.dropout2(self.pool2(F.relu(self.conv4(x))))\n",
    "#         x = x.view(-1, 32 * 64 * 64)\n",
    "#         x = F.relu(self.dropout3(self.fc1(x)))\n",
    "#         x = F.relu(self.fc2(x))\n",
    "#         x = self.fc3(x)\n",
    "#         return x\n",
    "\n",
    "# class ConvNet(nn.Module): # Best so far\n",
    "#     def __init__(self):\n",
    "#         super(ConvNet, self).__init__()\n",
    "#         self.conv1 = nn.Conv2d(3, 96, kernel_size=3,stride=1,padding=1)   # 3X64X64 to 96X64X64       \n",
    "#         self.conv2 = nn.Conv2d(96, 96, kernel_size=3,stride=1,padding=1)  # 96X64X64 to 96X64X64                 \n",
    "#         self.conv3 = nn.Conv2d(96, 96, kernel_size=3,stride=2,padding=1)  # 96X64X64 to 96X32X32                 \n",
    "#         self.conv4 = nn.Conv2d(96, 192, kernel_size=3,stride=1,padding=1)  # 96X32X32 to 192X32X32                 \n",
    "#         self.conv5 = nn.Conv2d(192, 192, kernel_size=3,stride=1,padding=1)   \n",
    "#         self.conv6 = nn.Conv2d(192, 192, kernel_size=3,stride=2,padding=1)  # 192X32X32 to 192X16X16                 \n",
    "#         self.conv7 = nn.Conv2d(192, 192, kernel_size=3,stride=1,padding=0)  # 192X16X16 to 192X14X14\n",
    "#         self.conv8 = nn.Conv2d(192, 10, kernel_size=1,stride=1,padding=0)   # 192X14X14 to 10X14X14    \n",
    "#         self.conv9 = nn.Conv2d(10, 10, kernel_size=1,stride=1,padding=0)    # 10X14X14 to 10X14X14 \n",
    "#         self.dropout = nn.Dropout(p=.5)\n",
    "#         # self.pool = nn.AvgPool2d(kernel_size=6, stride=1, padding=0) \n",
    "#         self.fc1 = nn.Linear(10*14*14,27)\n",
    "\n",
    "#     def forward(self, x):\n",
    "#         x = F.relu(self.conv1(x))\n",
    "#         x = F.relu(self.conv2(x))\n",
    "#         x = self.dropout(F.relu(self.conv3(x)))\n",
    "#         x = F.relu(self.conv4(x))\n",
    "#         x = F.relu(self.conv5(x))\n",
    "#         x = self.dropout(F.relu(self.conv6(x)))\n",
    "#         x = F.relu(self.conv7(x))\n",
    "#         x = F.relu(self.conv8(x))\n",
    "#         x = F.relu(self.conv9(x))\n",
    "#         x = x.view(-1, 10*14*14)\n",
    "#         x = self.fc1(x)\n",
    "#         return x\n",
    "\n",
    "class ConvNet(nn.Module):\n",
    "    def __init__(self):\n",
    "        super(ConvNet, self).__init__()\n",
    "        #starting image size = 128x128\n",
    "        self.conv1 = nn.Conv2d(3, 16, 3, padding=(1,1)) # in_channels, out_channels, kernel_size\n",
    "        self.conv2 = nn.Conv2d(16,40,3, padding=(1,1))\n",
    "        self.conv3 = nn.Conv2d(40, 70, 3, padding=(1,1))\n",
    "        \n",
    "        self.pool = nn.MaxPool2d(2, 2)\n",
    "        self.dropout1 = nn.Dropout2d(0.2)\n",
    "        self.dropout2 = nn.Dropout2d(0.4)\n",
    "\n",
    "        self.fc1 = nn.Linear(70 * 16 * 16, 512)\n",
    "        self.fc2 = nn.Linear(512, 256)\n",
    "        self.fc3 = nn.Linear(256, 27)\n",
    "\n",
    "\n",
    "    def forward(self, x):\n",
    "        x = self.pool(F.relu(self.conv1(x)))\n",
    "        x = self.dropout1(self.pool(F.relu(self.conv2(x))))\n",
    "        x = self.pool(F.relu(self.conv3(x)))\n",
    "        x = x.view(-1, 70 * 16 * 16)\n",
    "        x = F.relu(self.dropout2(self.fc1(x)))\n",
    "        x = F.relu(self.fc2(x))\n",
    "        x = self.fc3(x)\n",
    "        return x"
   ]
  },
  {
   "cell_type": "code",
   "execution_count": 20,
   "metadata": {},
   "outputs": [],
   "source": [
    "import torch.optim as optim\n",
    "\n",
    "model = ConvNet()\n",
    "learning_rate = 0.001\n",
    "optimizer = optim.Adam(model.parameters(), lr=learning_rate)\n",
    "criterion = nn.CrossEntropyLoss()\n",
    "epochs = 10"
   ]
  },
  {
   "cell_type": "code",
   "execution_count": 21,
   "metadata": {
    "scrolled": true
   },
   "outputs": [
    {
     "name": "stdout",
     "output_type": "stream",
     "text": [
      "===== HYPERPARAMETERS =====\n",
      "batch_size= 32\n",
      "epochs= 10\n",
      "learning_rate= 0.001\n",
      "==============================\n",
      "Epoch 1, 6% \t train_loss: 8.28 took: 10.30s\n",
      "Epoch 1, 12% \t train_loss: 3.31 took: 9.89s\n",
      "Epoch 1, 18% \t train_loss: 3.35 took: 9.91s\n",
      "Epoch 1, 24% \t train_loss: 3.30 took: 10.06s\n",
      "Epoch 1, 31% \t train_loss: 3.31 took: 10.29s\n",
      "Epoch 1, 37% \t train_loss: 3.28 took: 10.05s\n",
      "Epoch 1, 43% \t train_loss: 3.32 took: 10.03s\n",
      "Epoch 1, 49% \t train_loss: 3.29 took: 10.14s\n",
      "Epoch 1, 55% \t train_loss: 3.27 took: 10.70s\n",
      "Epoch 1, 62% \t train_loss: 3.20 took: 10.03s\n",
      "Epoch 1, 68% \t train_loss: 3.18 took: 10.05s\n",
      "Epoch 1, 74% \t train_loss: 3.24 took: 10.17s\n",
      "Epoch 1, 80% \t train_loss: 3.13 took: 9.91s\n",
      "Epoch 1, 86% \t train_loss: 3.06 took: 9.94s\n",
      "Epoch 1, 93% \t train_loss: 2.86 took: 10.04s\n",
      "Epoch 1, 99% \t train_loss: 2.72 took: 10.32s\n",
      "Validation loss = 2.93\n"
     ]
    },
    {
     "name": "stderr",
     "output_type": "stream",
     "text": [
      "/Users/taneja/Anaconda3/anaconda3/lib/python3.7/site-packages/torch/serialization.py:256: UserWarning: Couldn't retrieve source code for container of type ConvNet. It won't be checked for correctness upon loading.\n",
      "  \"type \" + obj.__name__ + \". It won't be checked \"\n"
     ]
    },
    {
     "name": "stdout",
     "output_type": "stream",
     "text": [
      "Epoch 2, 6% \t train_loss: 3.60 took: 11.14s\n",
      "Epoch 2, 12% \t train_loss: 3.36 took: 10.53s\n",
      "Epoch 2, 18% \t train_loss: 3.33 took: 10.56s\n",
      "Epoch 2, 24% \t train_loss: 3.32 took: 10.82s\n",
      "Epoch 2, 31% \t train_loss: 3.31 took: 10.36s\n",
      "Epoch 2, 37% \t train_loss: 3.28 took: 9.68s\n",
      "Epoch 2, 43% \t train_loss: 3.35 took: 9.63s\n",
      "Epoch 2, 49% \t train_loss: 3.31 took: 9.53s\n",
      "Epoch 2, 55% \t train_loss: 3.31 took: 9.57s\n",
      "Epoch 2, 62% \t train_loss: 3.22 took: 9.56s\n",
      "Epoch 2, 68% \t train_loss: 3.23 took: 9.65s\n",
      "Epoch 2, 74% \t train_loss: 3.21 took: 9.62s\n",
      "Epoch 2, 80% \t train_loss: 3.16 took: 9.61s\n",
      "Epoch 2, 86% \t train_loss: 2.92 took: 9.68s\n",
      "Epoch 2, 93% \t train_loss: 2.76 took: 9.61s\n",
      "Epoch 2, 99% \t train_loss: 2.56 took: 9.88s\n",
      "Validation loss = 2.86\n",
      "Epoch 3, 6% \t train_loss: 3.68 took: 10.34s\n",
      "Epoch 3, 12% \t train_loss: 3.31 took: 11.03s\n",
      "Epoch 3, 18% \t train_loss: 3.28 took: 11.37s\n",
      "Epoch 3, 24% \t train_loss: 3.22 took: 11.45s\n",
      "Epoch 3, 31% \t train_loss: 3.13 took: 11.75s\n",
      "Epoch 3, 37% \t train_loss: 3.21 took: 11.74s\n",
      "Epoch 3, 43% \t train_loss: 3.16 took: 11.59s\n",
      "Epoch 3, 49% \t train_loss: 3.11 took: 11.62s\n",
      "Epoch 3, 55% \t train_loss: 3.04 took: 11.28s\n",
      "Epoch 3, 62% \t train_loss: 2.92 took: 10.87s\n",
      "Epoch 3, 68% \t train_loss: 2.99 took: 10.74s\n",
      "Epoch 3, 74% \t train_loss: 2.96 took: 10.68s\n",
      "Epoch 3, 80% \t train_loss: 2.82 took: 10.55s\n",
      "Epoch 3, 86% \t train_loss: 2.68 took: 10.60s\n",
      "Epoch 3, 93% \t train_loss: 2.59 took: 10.63s\n",
      "Epoch 3, 99% \t train_loss: 2.45 took: 10.86s\n",
      "Validation loss = 2.80\n",
      "Epoch 4, 6% \t train_loss: 3.62 took: 11.04s\n",
      "Epoch 4, 12% \t train_loss: 3.32 took: 11.04s\n",
      "Epoch 4, 18% \t train_loss: 3.31 took: 10.83s\n",
      "Epoch 4, 24% \t train_loss: 3.29 took: 10.82s\n",
      "Epoch 4, 31% \t train_loss: 3.24 took: 10.79s\n",
      "Epoch 4, 37% \t train_loss: 3.26 took: 10.68s\n",
      "Epoch 4, 43% \t train_loss: 3.24 took: 10.88s\n",
      "Epoch 4, 49% \t train_loss: 3.19 took: 10.88s\n",
      "Epoch 4, 55% \t train_loss: 3.16 took: 10.61s\n",
      "Epoch 4, 62% \t train_loss: 3.04 took: 10.67s\n",
      "Epoch 4, 68% \t train_loss: 2.97 took: 10.59s\n",
      "Epoch 4, 74% \t train_loss: 2.95 took: 10.66s\n",
      "Epoch 4, 80% \t train_loss: 2.73 took: 10.56s\n",
      "Epoch 4, 86% \t train_loss: 2.62 took: 10.75s\n",
      "Epoch 4, 93% \t train_loss: 2.48 took: 10.75s\n",
      "Epoch 4, 99% \t train_loss: 2.49 took: 10.55s\n",
      "Validation loss = 2.83\n",
      "Epoch 5, 6% \t train_loss: 3.54 took: 11.46s\n",
      "Epoch 5, 12% \t train_loss: 3.23 took: 11.90s\n",
      "Epoch 5, 18% \t train_loss: 3.10 took: 12.86s\n",
      "Epoch 5, 24% \t train_loss: 3.00 took: 11.96s\n",
      "Epoch 5, 31% \t train_loss: 2.94 took: 11.03s\n",
      "Epoch 5, 37% \t train_loss: 2.91 took: 10.93s\n",
      "Epoch 5, 43% \t train_loss: 2.85 took: 13.45s\n",
      "Epoch 5, 49% \t train_loss: 2.81 took: 13.88s\n",
      "Epoch 5, 55% \t train_loss: 2.79 took: 13.56s\n",
      "Epoch 5, 62% \t train_loss: 2.66 took: 11.05s\n",
      "Epoch 5, 68% \t train_loss: 2.67 took: 11.37s\n",
      "Epoch 5, 74% \t train_loss: 2.68 took: 10.72s\n",
      "Epoch 5, 80% \t train_loss: 2.53 took: 10.81s\n",
      "Epoch 5, 86% \t train_loss: 2.41 took: 11.26s\n",
      "Epoch 5, 93% \t train_loss: 2.34 took: 11.15s\n",
      "Epoch 5, 99% \t train_loss: 2.23 took: 12.11s\n",
      "Validation loss = 2.68\n",
      "Epoch 6, 6% \t train_loss: 3.46 took: 11.69s\n",
      "Epoch 6, 12% \t train_loss: 2.99 took: 10.87s\n",
      "Epoch 6, 18% \t train_loss: 2.82 took: 11.08s\n",
      "Epoch 6, 24% \t train_loss: 2.77 took: 10.89s\n",
      "Epoch 6, 31% \t train_loss: 2.61 took: 10.66s\n",
      "Epoch 6, 37% \t train_loss: 2.63 took: 10.98s\n",
      "Epoch 6, 43% \t train_loss: 2.64 took: 10.94s\n",
      "Epoch 6, 49% \t train_loss: 2.56 took: 10.53s\n",
      "Epoch 6, 55% \t train_loss: 2.49 took: 10.56s\n",
      "Epoch 6, 62% \t train_loss: 2.43 took: 10.68s\n",
      "Epoch 6, 68% \t train_loss: 2.47 took: 10.76s\n",
      "Epoch 6, 74% \t train_loss: 2.45 took: 10.80s\n",
      "Epoch 6, 80% \t train_loss: 2.25 took: 10.54s\n",
      "Epoch 6, 86% \t train_loss: 2.24 took: 10.67s\n",
      "Epoch 6, 93% \t train_loss: 2.23 took: 10.70s\n",
      "Epoch 6, 99% \t train_loss: 1.98 took: 10.84s\n",
      "Validation loss = 2.81\n",
      "Epoch 7, 6% \t train_loss: 3.22 took: 10.46s\n",
      "Epoch 7, 12% \t train_loss: 2.66 took: 11.20s\n",
      "Epoch 7, 18% \t train_loss: 2.47 took: 10.55s\n",
      "Epoch 7, 24% \t train_loss: 2.47 took: 10.43s\n",
      "Epoch 7, 31% \t train_loss: 2.32 took: 10.37s\n",
      "Epoch 7, 37% \t train_loss: 2.37 took: 10.26s\n",
      "Epoch 7, 43% \t train_loss: 2.37 took: 10.47s\n",
      "Epoch 7, 49% \t train_loss: 2.24 took: 10.54s\n",
      "Epoch 7, 55% \t train_loss: 2.20 took: 10.26s\n",
      "Epoch 7, 62% \t train_loss: 2.13 took: 10.24s\n",
      "Epoch 7, 68% \t train_loss: 2.18 took: 10.22s\n",
      "Epoch 7, 74% \t train_loss: 2.17 took: 10.32s\n",
      "Epoch 7, 80% \t train_loss: 2.01 took: 10.22s\n",
      "Epoch 7, 86% \t train_loss: 1.96 took: 10.25s\n",
      "Epoch 7, 93% \t train_loss: 1.84 took: 10.37s\n",
      "Epoch 7, 99% \t train_loss: 1.82 took: 10.44s\n",
      "Validation loss = 2.86\n",
      "Epoch 8, 6% \t train_loss: 2.98 took: 10.46s\n",
      "Epoch 8, 12% \t train_loss: 2.33 took: 10.61s\n",
      "Epoch 8, 18% \t train_loss: 2.18 took: 10.61s\n",
      "Epoch 8, 24% \t train_loss: 2.06 took: 10.61s\n",
      "Epoch 8, 31% \t train_loss: 2.01 took: 10.70s\n",
      "Epoch 8, 37% \t train_loss: 1.97 took: 10.23s\n",
      "Epoch 8, 43% \t train_loss: 1.97 took: 10.40s\n",
      "Epoch 8, 49% \t train_loss: 1.95 took: 10.45s\n",
      "Epoch 8, 55% \t train_loss: 1.91 took: 10.27s\n",
      "Epoch 8, 62% \t train_loss: 1.92 took: 10.29s\n",
      "Epoch 8, 68% \t train_loss: 1.88 took: 10.52s\n",
      "Epoch 8, 74% \t train_loss: 1.89 took: 10.46s\n",
      "Epoch 8, 80% \t train_loss: 1.77 took: 10.54s\n",
      "Epoch 8, 86% \t train_loss: 1.49 took: 10.43s\n",
      "Epoch 8, 93% \t train_loss: 1.43 took: 10.49s\n",
      "Epoch 8, 99% \t train_loss: 1.45 took: 10.41s\n",
      "Validation loss = 3.12\n",
      "Epoch 9, 6% \t train_loss: 2.65 took: 11.11s\n",
      "Epoch 9, 12% \t train_loss: 2.05 took: 10.89s\n",
      "Epoch 9, 18% \t train_loss: 1.85 took: 10.88s\n",
      "Epoch 9, 24% \t train_loss: 1.81 took: 10.93s\n",
      "Epoch 9, 31% \t train_loss: 1.66 took: 11.75s\n",
      "Epoch 9, 37% \t train_loss: 1.67 took: 11.03s\n",
      "Epoch 9, 43% \t train_loss: 1.73 took: 11.05s\n",
      "Epoch 9, 49% \t train_loss: 1.64 took: 10.61s\n",
      "Epoch 9, 55% \t train_loss: 1.62 took: 10.74s\n",
      "Epoch 9, 62% \t train_loss: 1.54 took: 10.77s\n",
      "Epoch 9, 68% \t train_loss: 1.56 took: 10.31s\n",
      "Epoch 9, 74% \t train_loss: 1.58 took: 10.33s\n",
      "Epoch 9, 80% \t train_loss: 1.57 took: 10.48s\n",
      "Epoch 9, 86% \t train_loss: 1.23 took: 10.29s\n",
      "Epoch 9, 93% \t train_loss: 1.20 took: 10.22s\n",
      "Epoch 9, 99% \t train_loss: 1.11 took: 10.41s\n",
      "Validation loss = 3.68\n",
      "Epoch 10, 6% \t train_loss: 2.30 took: 10.57s\n",
      "Epoch 10, 12% \t train_loss: 1.76 took: 10.25s\n",
      "Epoch 10, 18% \t train_loss: 1.57 took: 10.19s\n",
      "Epoch 10, 24% \t train_loss: 1.46 took: 10.38s\n",
      "Epoch 10, 31% \t train_loss: 1.40 took: 10.35s\n",
      "Epoch 10, 37% \t train_loss: 1.44 took: 10.22s\n",
      "Epoch 10, 43% \t train_loss: 1.41 took: 10.48s\n",
      "Epoch 10, 49% \t train_loss: 1.50 took: 10.47s\n",
      "Epoch 10, 55% \t train_loss: 1.45 took: 10.25s\n",
      "Epoch 10, 62% \t train_loss: 1.34 took: 10.16s\n",
      "Epoch 10, 68% \t train_loss: 1.37 took: 10.54s\n",
      "Epoch 10, 74% \t train_loss: 1.33 took: 10.30s\n",
      "Epoch 10, 80% \t train_loss: 1.25 took: 10.39s\n",
      "Epoch 10, 86% \t train_loss: 1.11 took: 10.81s\n",
      "Epoch 10, 93% \t train_loss: 0.97 took: 10.75s\n",
      "Epoch 10, 99% \t train_loss: 1.08 took: 11.15s\n",
      "Validation loss = 3.65\n",
      "Training finished, took 1867.45s\n"
     ]
    }
   ],
   "source": [
    "import time\n",
    "\n",
    "train_loss_list = []\n",
    "val_loss_list = []\n",
    "\n",
    "#Print all of the hyperparameters of the training iteration:\n",
    "print(\"===== HYPERPARAMETERS =====\")\n",
    "print(\"batch_size=\", batch_size)\n",
    "print(\"epochs=\", epochs)\n",
    "print(\"learning_rate=\", learning_rate)\n",
    "print(\"=\" * 30)\n",
    "\n",
    "n_batches = len(train_dataloader)\n",
    "training_start_time = time.time()\n",
    "\n",
    "for epoch in range(epochs):\n",
    "\n",
    "\n",
    "    running_loss = 0.0\n",
    "    print_every = 20 # 10\n",
    "    start_time = time.time()\n",
    "    total_train_loss = 0\n",
    "\n",
    "    for i, data in enumerate(train_dataloader, 0):\n",
    "\n",
    "        #Get inputs\n",
    "        inputs, labels = data\n",
    "\n",
    "        #Wrap them in a Variable object\n",
    "        inputs, labels = Variable(inputs), Variable(labels)\n",
    "\n",
    "        #Set the parameter gradients to zero\n",
    "        optimizer.zero_grad()\n",
    "\n",
    "        #Forward pass, backward pass, optimize\n",
    "        outputs = model(inputs)\n",
    "        loss_size = criterion(outputs, labels)\n",
    "        loss_size.backward()\n",
    "        optimizer.step()\n",
    "        \n",
    "        running_loss += loss_size.data\n",
    "        total_train_loss += loss_size.data\n",
    "\n",
    "        #Print every 10th batch of an epoch\n",
    "        if (i + 1) % (print_every + 1) == 0:\n",
    "            print(\"Epoch {}, {:d}% \\t train_loss: {:.2f} took: {:.2f}s\".format(\n",
    "                    epoch+1, int(100 * (i+1) / n_batches), running_loss / print_every, time.time() - start_time))\n",
    "            #Reset running loss and time\n",
    "            running_loss = 0.0\n",
    "            start_time = time.time()\n",
    "\n",
    "    #At the end of the epoch, do a pass on the validation set\n",
    "    total_val_loss = 0\n",
    "    for inputs, labels in val_dataloader:\n",
    "\n",
    "        #Wrap tensors in Variables\n",
    "        inputs, labels = Variable(inputs), Variable(labels)\n",
    "\n",
    "        #Forward pass\n",
    "        val_outputs = model(inputs)\n",
    "        val_loss_size = criterion(val_outputs, labels)\n",
    "        total_val_loss += val_loss_size.data\n",
    "\n",
    "    train_loss_list.append(total_train_loss)\n",
    "    val_loss_list.append(total_val_loss)\n",
    "\n",
    "    print(\"Validation loss = {:.2f}\".format(total_val_loss / len(val_dataloader)))\n",
    "\n",
    "\n",
    "    torch.save(model, 'model-elta-epoch-3.pkl')\n",
    "\n",
    "print(\"Training finished, took {:.2f}s\".format(time.time() - training_start_time))"
   ]
  },
  {
   "cell_type": "code",
   "execution_count": 22,
   "metadata": {},
   "outputs": [
    {
     "data": {
      "image/png": "[encoded data removed]",
      "text/plain": [
       "<Figure size 432x288 with 1 Axes>"
      ]
     },
     "metadata": {
      "needs_background": "light"
     },
     "output_type": "display_data"
    }
   ],
   "source": [
    "train_loss_list = [x/len(train_dataloader) for x in train_loss_list]\n",
    "val_loss_list = [x/len(val_dataloader) for x in val_loss_list]\n",
    "\n",
    "plt.plot(train_loss_list,label='train_loss')\n",
    "plt.plot(val_loss_list,label='val_loss')\n",
    "plt.legend()\n",
    "plt.show()"
   ]
  },
  {
   "cell_type": "code",
   "execution_count": 23,
   "metadata": {},
   "outputs": [],
   "source": [
    "# load the model\n",
    "net = torch.load('model-elta-epoch-3.pkl')"
   ]
  },
  {
   "cell_type": "markdown",
   "metadata": {},
   "source": [
    "#### Performance on Validation data"
   ]
  },
  {
   "cell_type": "code",
   "execution_count": 24,
   "metadata": {},
   "outputs": [
    {
     "name": "stdout",
     "output_type": "stream",
     "text": [
      "Accuracy of the network on the validation set images: 23 %\n"
     ]
    }
   ],
   "source": [
    "correct = 0\n",
    "total = 0\n",
    "with torch.no_grad():\n",
    "    for data in val_dataloader:\n",
    "        images, labels = data\n",
    "        outputs = net(images)\n",
    "        _, predicted = torch.max(outputs.data, 1)\n",
    "        total += labels.size(0)\n",
    "        correct += (predicted == labels).sum().item()\n",
    "\n",
    "print('Accuracy of the network on the validation set images: %d %%' % (100 * correct / total))"
   ]
  },
  {
   "cell_type": "markdown",
   "metadata": {},
   "source": [
    "#### Performance on Train data"
   ]
  },
  {
   "cell_type": "code",
   "execution_count": 25,
   "metadata": {},
   "outputs": [
    {
     "name": "stdout",
     "output_type": "stream",
     "text": [
      "Accuracy of the network on the train set images: 33 %\n"
     ]
    }
   ],
   "source": [
    "correct = 0\n",
    "total = 0\n",
    "with torch.no_grad():\n",
    "    for data in train_dataloader:\n",
    "        images, labels = data\n",
    "        outputs = net(images)\n",
    "        _, predicted = torch.max(outputs.data, 1)\n",
    "        total += labels.size(0)\n",
    "        correct += (predicted == labels).sum().item()\n",
    "\n",
    "print('Accuracy of the network on the train set images: %d %%' % (100 * correct / total))"
   ]
  },
  {
   "cell_type": "markdown",
   "metadata": {},
   "source": [
    "#### Prediction on Test data"
   ]
  },
  {
   "cell_type": "code",
   "execution_count": 26,
   "metadata": {},
   "outputs": [],
   "source": [
    "TEST_IMAGES_PATH = './images/image_test/'"
   ]
  },
  {
   "cell_type": "code",
   "execution_count": 27,
   "metadata": {},
   "outputs": [
    {
     "data": {
      "text/html": [
       "<div>\n",
       "<style scoped>\n",
       "    .dataframe tbody tr th:only-of-type {\n",
       "        vertical-align: middle;\n",
       "    }\n",
       "\n",
       "    .dataframe tbody tr th {\n",
       "        vertical-align: top;\n",
       "    }\n",
       "\n",
       "    .dataframe thead th {\n",
       "        text-align: right;\n",
       "    }\n",
       "</style>\n",
       "<table border=\"1\" class=\"dataframe\">\n",
       "  <thead>\n",
       "    <tr style=\"text-align: right;\">\n",
       "      <th></th>\n",
       "      <th>id</th>\n",
       "      <th>designation</th>\n",
       "      <th>description</th>\n",
       "      <th>productid</th>\n",
       "      <th>imageid</th>\n",
       "      <th>imagefilename</th>\n",
       "    </tr>\n",
       "  </thead>\n",
       "  <tbody>\n",
       "    <tr>\n",
       "      <td>0</td>\n",
       "      <td>84916</td>\n",
       "      <td>Folkmanis Puppets - 2732 - Marionnette Et Théâ...</td>\n",
       "      <td>NaN</td>\n",
       "      <td>516376098</td>\n",
       "      <td>1019294171</td>\n",
       "      <td>image_1019294171_product_516376098</td>\n",
       "    </tr>\n",
       "    <tr>\n",
       "      <td>1</td>\n",
       "      <td>84917</td>\n",
       "      <td>Porte Flamme Gaxix - Flamebringer Gaxix - 136/...</td>\n",
       "      <td>NaN</td>\n",
       "      <td>133389013</td>\n",
       "      <td>1274228667</td>\n",
       "      <td>image_1274228667_product_133389013</td>\n",
       "    </tr>\n",
       "    <tr>\n",
       "      <td>2</td>\n",
       "      <td>84918</td>\n",
       "      <td>Pompe de filtration Speck Badu 95</td>\n",
       "      <td>NaN</td>\n",
       "      <td>4128438366</td>\n",
       "      <td>1295960357</td>\n",
       "      <td>image_1295960357_product_4128438366</td>\n",
       "    </tr>\n",
       "    <tr>\n",
       "      <td>3</td>\n",
       "      <td>84919</td>\n",
       "      <td>Robot de piscine électrique</td>\n",
       "      <td>&lt;p&gt;Ce robot de piscine d&amp;#39;un design innovan...</td>\n",
       "      <td>3929899732</td>\n",
       "      <td>1265224052</td>\n",
       "      <td>image_1265224052_product_3929899732</td>\n",
       "    </tr>\n",
       "    <tr>\n",
       "      <td>4</td>\n",
       "      <td>84920</td>\n",
       "      <td>Hsm Destructeur Securio C16 Coupe Crois¿E: 4 X...</td>\n",
       "      <td>NaN</td>\n",
       "      <td>152993898</td>\n",
       "      <td>940543690</td>\n",
       "      <td>image_940543690_product_152993898</td>\n",
       "    </tr>\n",
       "  </tbody>\n",
       "</table>\n",
       "</div>"
      ],
      "text/plain": [
       "      id                                        designation  \\\n",
       "0  84916  Folkmanis Puppets - 2732 - Marionnette Et Théâ...   \n",
       "1  84917  Porte Flamme Gaxix - Flamebringer Gaxix - 136/...   \n",
       "2  84918                  Pompe de filtration Speck Badu 95   \n",
       "3  84919                        Robot de piscine électrique   \n",
       "4  84920  Hsm Destructeur Securio C16 Coupe Crois¿E: 4 X...   \n",
       "\n",
       "                                         description   productid     imageid  \\\n",
       "0                                                NaN   516376098  1019294171   \n",
       "1                                                NaN   133389013  1274228667   \n",
       "2                                                NaN  4128438366  1295960357   \n",
       "3  <p>Ce robot de piscine d&#39;un design innovan...  3929899732  1265224052   \n",
       "4                                                NaN   152993898   940543690   \n",
       "\n",
       "                         imagefilename  \n",
       "0   image_1019294171_product_516376098  \n",
       "1   image_1274228667_product_133389013  \n",
       "2  image_1295960357_product_4128438366  \n",
       "3  image_1265224052_product_3929899732  \n",
       "4    image_940543690_product_152993898  "
      ]
     },
     "execution_count": 27,
     "metadata": {},
     "output_type": "execute_result"
    }
   ],
   "source": [
    "X_test = pd.read_csv('X_test.csv', header=0, names=['id','designation','description','productid','imageid'])\n",
    "X_test['imagefilename'] = X_test.apply(lambda x: 'image_'+str(x['imageid'])+'_product_'+str(x['productid']), axis=1)\n",
    "X_test.head()"
   ]
  },
  {
   "cell_type": "code",
   "execution_count": 28,
   "metadata": {},
   "outputs": [
    {
     "data": {
      "application/vnd.jupyter.widget-view+json": {
       "model_id": "c490cd51f7124dc9965ca3d6e0bc4dbc",
       "version_major": 2,
       "version_minor": 0
      },
      "text/plain": [
       "HBox(children=(IntProgress(value=1, bar_style='info', max=1), HTML(value='')))"
      ]
     },
     "metadata": {},
     "output_type": "display_data"
    },
    {
     "name": "stdout",
     "output_type": "stream",
     "text": [
      "\n"
     ]
    }
   ],
   "source": [
    "# X_test_subsampled = X_test[:100]\n",
    "X_test_subsampled = X_test\n",
    "\n",
    "image_filenames = [f for f in X_test_subsampled['imagefilename']]\n",
    "sample_length = len(X_test_subsampled)\n",
    "\n",
    "test_images=np.zeros((sample_length,IMG_HEIGHT,IMG_WIDTH,3))\n",
    "\n",
    "for i,fi in tqdm(enumerate(image_filenames)):\n",
    "    pic = cv2.imread(TEST_IMAGES_PATH + fi + '.jpg')\n",
    "    pic = cv2.resize(pic,(IMG_HEIGHT,IMG_WIDTH))\n",
    "    test_images[i] = pic"
   ]
  },
  {
   "cell_type": "code",
   "execution_count": 29,
   "metadata": {},
   "outputs": [
    {
     "data": {
      "text/plain": [
       "(13812, 3, 128, 128)"
      ]
     },
     "execution_count": 29,
     "metadata": {},
     "output_type": "execute_result"
    }
   ],
   "source": [
    "test_images = np.moveaxis(test_images, -1, 1)\n",
    "test_images.shape"
   ]
  },
  {
   "cell_type": "code",
   "execution_count": 30,
   "metadata": {},
   "outputs": [],
   "source": [
    "batch_size = 100\n",
    "\n",
    "# transforming the numpy array to a torch tensor\n",
    "tensor_X_test = torch.Tensor(test_images)\n",
    "\n",
    "# transforming the torch tensors to a dataset\n",
    "testset = torch.utils.data.TensorDataset(tensor_X_test)\n",
    "test_dataloader = torch.utils.data.DataLoader(testset, batch_size, shuffle=False)"
   ]
  },
  {
   "cell_type": "code",
   "execution_count": 31,
   "metadata": {},
   "outputs": [],
   "source": [
    "predictions = np.array([])\n",
    "correct = 0\n",
    "total = 0\n",
    "with torch.no_grad():\n",
    "    for data in test_dataloader:\n",
    "        images = data[0]\n",
    "        outputs = net(images)\n",
    "        _, predicted = torch.max(outputs.data, 1)\n",
    "        predictions = np.concatenate((predictions,predicted))\n"
   ]
  },
  {
   "cell_type": "code",
   "execution_count": 33,
   "metadata": {},
   "outputs": [],
   "source": [
    "pd.DataFrame(predictions).to_csv('images23%.csv')"
   ]
  },
  {
   "cell_type": "code",
   "execution_count": null,
   "metadata": {},
   "outputs": [],
   "source": []
  }
 ],
 "metadata": {
  "accelerator": "GPU",
  "colab": {
   "collapsed_sections": [],
   "name": "ELTA_CNN_V2.ipynb",
   "provenance": []
  },
  "kernelspec": {
   "display_name": "Python 3",
   "language": "python",
   "name": "python3"
  },
  "language_info": {
   "codemirror_mode": {
    "name": "ipython",
    "version": 3
   },
   "file_extension": ".py",
   "mimetype": "text/x-python",
   "name": "python",
   "nbconvert_exporter": "python",
   "pygments_lexer": "ipython3",
   "version": "3.7.4"
  },
  "widgets": {
   "application/vnd.jupyter.widget-state+json": {
    "0ebbb94d50044287a334ced4152c9bb7": {
     "model_module": "@jupyter-widgets/controls",
     "model_name": "ProgressStyleModel",
     "state": {
      "_model_module": "@jupyter-widgets/controls",
      "_model_module_version": "1.5.0",
      "_model_name": "ProgressStyleModel",
      "_view_count": null,
      "_view_module": "@jupyter-widgets/base",
      "_view_module_version": "1.2.0",
      "_view_name": "StyleView",
      "bar_color": null,
      "description_width": ""
     }
    },
    "181faed42823418dab4816897baa05de": {
     "model_module": "@jupyter-widgets/base",
     "model_name": "LayoutModel",
     "state": {
      "_model_module": "@jupyter-widgets/base",
      "_model_module_version": "1.2.0",
      "_model_name": "LayoutModel",
      "_view_count": null,
      "_view_module": "@jupyter-widgets/base",
      "_view_module_version": "1.2.0",
      "_view_name": "LayoutView",
      "align_content": null,
      "align_items": null,
      "align_self": null,
      "border": null,
      "bottom": null,
      "display": null,
      "flex": null,
      "flex_flow": null,
      "grid_area": null,
      "grid_auto_columns": null,
      "grid_auto_flow": null,
      "grid_auto_rows": null,
      "grid_column": null,
      "grid_gap": null,
      "grid_row": null,
      "grid_template_areas": null,
      "grid_template_columns": null,
      "grid_template_rows": null,
      "height": null,
      "justify_content": null,
      "justify_items": null,
      "left": null,
      "margin": null,
      "max_height": null,
      "max_width": null,
      "min_height": null,
      "min_width": null,
      "object_fit": null,
      "object_position": null,
      "order": null,
      "overflow": null,
      "overflow_x": null,
      "overflow_y": null,
      "padding": null,
      "right": null,
      "top": null,
      "visibility": null,
      "width": null
     }
    },
    "1bf83475115e4f1c9bcf356ca59858c5": {
     "model_module": "@jupyter-widgets/controls",
     "model_name": "IntProgressModel",
     "state": {
      "_dom_classes": [],
      "_model_module": "@jupyter-widgets/controls",
      "_model_module_version": "1.5.0",
      "_model_name": "IntProgressModel",
      "_view_count": null,
      "_view_module": "@jupyter-widgets/controls",
      "_view_module_version": "1.5.0",
      "_view_name": "ProgressView",
      "bar_style": "success",
      "description": "",
      "description_tooltip": null,
      "layout": "IPY_MODEL_181faed42823418dab4816897baa05de",
      "max": 1,
      "min": 0,
      "orientation": "horizontal",
      "style": "IPY_MODEL_0ebbb94d50044287a334ced4152c9bb7",
      "value": 1
     }
    },
    "54c4065184f64c54b969a8a4ad41d9b4": {
     "model_module": "@jupyter-widgets/base",
     "model_name": "LayoutModel",
     "state": {
      "_model_module": "@jupyter-widgets/base",
      "_model_module_version": "1.2.0",
      "_model_name": "LayoutModel",
      "_view_count": null,
      "_view_module": "@jupyter-widgets/base",
      "_view_module_version": "1.2.0",
      "_view_name": "LayoutView",
      "align_content": null,
      "align_items": null,
      "align_self": null,
      "border": null,
      "bottom": null,
      "display": null,
      "flex": null,
      "flex_flow": null,
      "grid_area": null,
      "grid_auto_columns": null,
      "grid_auto_flow": null,
      "grid_auto_rows": null,
      "grid_column": null,
      "grid_gap": null,
      "grid_row": null,
      "grid_template_areas": null,
      "grid_template_columns": null,
      "grid_template_rows": null,
      "height": null,
      "justify_content": null,
      "justify_items": null,
      "left": null,
      "margin": null,
      "max_height": null,
      "max_width": null,
      "min_height": null,
      "min_width": null,
      "object_fit": null,
      "object_position": null,
      "order": null,
      "overflow": null,
      "overflow_x": null,
      "overflow_y": null,
      "padding": null,
      "right": null,
      "top": null,
      "visibility": null,
      "width": null
     }
    },
    "6987cd88720246f386ea3736f2d8de77": {
     "model_module": "@jupyter-widgets/controls",
     "model_name": "DescriptionStyleModel",
     "state": {
      "_model_module": "@jupyter-widgets/controls",
      "_model_module_version": "1.5.0",
      "_model_name": "DescriptionStyleModel",
      "_view_count": null,
      "_view_module": "@jupyter-widgets/base",
      "_view_module_version": "1.2.0",
      "_view_name": "StyleView",
      "description_width": ""
     }
    },
    "948306d203864f68b066ebccd2fca7c1": {
     "model_module": "@jupyter-widgets/controls",
     "model_name": "HTMLModel",
     "state": {
      "_dom_classes": [],
      "_model_module": "@jupyter-widgets/controls",
      "_model_module_version": "1.5.0",
      "_model_name": "HTMLModel",
      "_view_count": null,
      "_view_module": "@jupyter-widgets/controls",
      "_view_module_version": "1.5.0",
      "_view_name": "HTMLView",
      "description": "",
      "description_tooltip": null,
      "layout": "IPY_MODEL_d54efb313523409ca04e0403c4cf3eeb",
      "placeholder": "​",
      "style": "IPY_MODEL_6987cd88720246f386ea3736f2d8de77",
      "value": "170500096it [00:04, 42131493.94it/s]"
     }
    },
    "a5bd25f3db074a5e9b036d1b9ae2bb5b": {
     "model_module": "@jupyter-widgets/controls",
     "model_name": "HBoxModel",
     "state": {
      "_dom_classes": [],
      "_model_module": "@jupyter-widgets/controls",
      "_model_module_version": "1.5.0",
      "_model_name": "HBoxModel",
      "_view_count": null,
      "_view_module": "@jupyter-widgets/controls",
      "_view_module_version": "1.5.0",
      "_view_name": "HBoxView",
      "box_style": "",
      "children": [
       "IPY_MODEL_1bf83475115e4f1c9bcf356ca59858c5",
       "IPY_MODEL_948306d203864f68b066ebccd2fca7c1"
      ],
      "layout": "IPY_MODEL_54c4065184f64c54b969a8a4ad41d9b4"
     }
    },
    "d54efb313523409ca04e0403c4cf3eeb": {
     "model_module": "@jupyter-widgets/base",
     "model_name": "LayoutModel",
     "state": {
      "_model_module": "@jupyter-widgets/base",
      "_model_module_version": "1.2.0",
      "_model_name": "LayoutModel",
      "_view_count": null,
      "_view_module": "@jupyter-widgets/base",
      "_view_module_version": "1.2.0",
      "_view_name": "LayoutView",
      "align_content": null,
      "align_items": null,
      "align_self": null,
      "border": null,
      "bottom": null,
      "display": null,
      "flex": null,
      "flex_flow": null,
      "grid_area": null,
      "grid_auto_columns": null,
      "grid_auto_flow": null,
      "grid_auto_rows": null,
      "grid_column": null,
      "grid_gap": null,
      "grid_row": null,
      "grid_template_areas": null,
      "grid_template_columns": null,
      "grid_template_rows": null,
      "height": null,
      "justify_content": null,
      "justify_items": null,
      "left": null,
      "margin": null,
      "max_height": null,
      "max_width": null,
      "min_height": null,
      "min_width": null,
      "object_fit": null,
      "object_position": null,
      "order": null,
      "overflow": null,
      "overflow_x": null,
      "overflow_y": null,
      "padding": null,
      "right": null,
      "top": null,
      "visibility": null,
      "width": null
     }
    }
   }
  }
 },
 "nbformat": 4,
 "nbformat_minor": 1
}
